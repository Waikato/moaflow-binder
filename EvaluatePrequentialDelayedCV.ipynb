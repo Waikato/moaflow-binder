{
"cells": [
{
"cell_type": "markdown",
"metadata": {},
"source": ["This IPYNB file was generated automatically by MOA GUI.<br>\n",
"Task name: moa.tasks.EvaluatePrequentialDelayedCV<br>\n",
"## Libraries importing\n"]
},

{
"cell_type": "code",
"execution_count": 1,
"metadata": {},
"outputs": [],
"source": ["%maven nz.ac.waikato.cms.moa:moa:2019.05.0\n",
"%classpath \"moa-flow-core.jar\"\n",
"import moaflow.transformer.*;\n",
"import moaflow.core.Utils;\n",
"import moaflow.sink.*;\n",
"import moaflow.source.*;\n"]
},

{
"cell_type": "markdown",
"metadata": {},
"source": ["## Configuring learner, stream and evaluator\n"]
},

{
"cell_type": "code",
"execution_count": 2,
"metadata": {},
"outputs": [],
"source": ["String learnerString = \"meta.AdaptiveRandomForest -l (ARFHoeffdingTree -e 2000000 -g 75 -s GiniSplitCriterion -c 0.01 -l MC) -o (Percentage (M * (m / 100))) -m 80\";\n",
"String streamString = \"generators.RandomTreeGenerator\";\n",
"String evaluatorString = \"WindowClassificationPerformanceEvaluator\";\n"]
},

{
"cell_type": "markdown",
"metadata": {},
"source": ["## Testing & training, exporting result\n"]
},

{
"cell_type": "code",
"execution_count": 3,
"metadata": {},
"outputs": [],
"source": ["InstanceSource source;\n",
"source = new InstanceSource();\n",
"source.setGenerator(streamString);;\n",
"source.numInstances.setValue(100000);\n",
"\n",
"EvaluateClassifier eval = new EvaluateClassifier();\n",
"eval.setClassifier(learnerString);\n",
"eval.setEvaluationScheme(\"PrequentialDelayedCV\");\n",
"eval.setEvaluator(evaluatorString);\n",
"eval.everyNth.setValue(10000);\n",
"source.subscribe(eval);\n",
"\n",
"MeasurementTableSawPlot plot = new MeasurementTableSawPlot();\n",
"plot.measurement.setValue(\"[avg] classifications correct (percent)\");\n",
"plot.maxPoints.setValue(-1);\n",
"eval.subscribe(plot);\n",
"\n",
"OutputLearningCurve curve = new OutputLearningCurve();\n",
"eval.subscribe(curve);\n",
"\n",
"System.out.println(Utils.toTree(source));\n",
"\n",
"source.start();\n"]
}
],
"metadata": {},
"nbformat": 4,
"nbformat_minor": 0
}
