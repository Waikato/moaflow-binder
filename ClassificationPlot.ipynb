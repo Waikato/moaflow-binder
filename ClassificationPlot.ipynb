{
 "cells": [
  {
   "cell_type": "markdown",
   "metadata": {},
   "source": [
    "## Example flow for plotting measurement from classification evaluation."
   ]
  },
  {
   "cell_type": "markdown",
   "metadata": {},
   "source": [
    "## Libraries importing"
   ]
  },
  {
   "cell_type": "code",
   "execution_count": null,
   "metadata": {},
   "outputs": [],
   "source": [
    "%maven nz.ac.waikato.cms.moa:moa:2019.05.0\n",
    "%classpath \"moa-flow-core.jar\"\n",
    "import moaflow.core.Utils;\n",
    "import moaflow.sink.Console;\n",
    "import moaflow.sink.MeasurementPlot;\n",
    "import moaflow.source.InstanceSource;\n",
    "import moaflow.transformer.EvaluateClassifier;\n",
    "import moa.classifiers.trees.HoeffdingTree;"
   ]
  },
  {
   "cell_type": "markdown",
   "metadata": {},
   "source": [
    "## Testing & training, exporting result"
   ]
  },
  {
   "cell_type": "code",
   "execution_count": null,
   "metadata": {},
   "outputs": [],
   "source": [
    "String classifier = HoeffdingTree.class.getName() + \" -b\";\n",
    "\n",
    "InstanceSource source;\n",
    "source = new InstanceSource();\n",
    "source.setGenerator(\"moa.streams.generators.RandomRBFGenerator -a 20\");\n",
    "source.numInstances.setValue(1000000);\n",
    "\n",
    "EvaluateClassifier eval = new EvaluateClassifier();\n",
    "eval.everyNth.setValue(1000);\n",
    "eval.setClassifier(classifier);\n",
    "source.subscribe(eval);\n",
    "\n",
    "MeasurementPlot plot = new MeasurementPlot();\n",
    "plot.measurement.setValue(\"classifications correct (percent)\");\n",
    "plot.maxPoints.setValue(-1);\n",
    "eval.subscribe(plot);\n",
    "\n",
    "Console console = new Console();\n",
    "console.outputSeparator.setValue(\"------\");\n",
    "eval.subscribe(console);\n",
    "\n",
    "System.out.println(Utils.toTree(source));\n",
    "\n",
    "source.start();"
   ]
  }
 ],
 "metadata": {
  "kernelspec": {
   "display_name": "Java",
   "language": "java",
   "name": "java"
  },
  "language_info": {
   "codemirror_mode": "java",
   "file_extension": ".jshell",
   "mimetype": "text/x-java-source",
   "name": "Java",
   "pygments_lexer": "java",
   "version": "11.0.3+7"
  }
 },
 "nbformat": 4,
 "nbformat_minor": 1
}
